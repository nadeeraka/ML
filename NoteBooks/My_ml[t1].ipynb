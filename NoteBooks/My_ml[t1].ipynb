{
  "nbformat": 4,
  "nbformat_minor": 0,
  "metadata": {
    "colab": {
      "name": "My-ml[t1].ipynb",
      "provenance": [],
      "authorship_tag": "ABX9TyOwD/h2MGat5pPXl0Ewmgue",
      "include_colab_link": true
    },
    "kernelspec": {
      "name": "python3",
      "display_name": "Python 3"
    }
  },
  "cells": [
    {
      "cell_type": "markdown",
      "metadata": {
        "id": "view-in-github",
        "colab_type": "text"
      },
      "source": [
        "<a href=\"https://colab.research.google.com/github/nadeeraka/test/blob/master/My_ml%5Bt1%5D.ipynb\" target=\"_parent\"><img src=\"https://colab.research.google.com/assets/colab-badge.svg\" alt=\"Open In Colab\"/></a>"
      ]
    },
    {
      "cell_type": "code",
      "metadata": {
        "id": "tB-nviuUDC0p"
      },
      "source": [
        "from __future__ import absolute_import, division, print_function, unicode_literals\n",
        "\n",
        "import numpy as np\n",
        "import pandas as pd\n",
        "import matplotlib.pyplot as plt\n",
        "from IPython.display import clear_output\n",
        "from six.moves import urllib\n",
        "\n",
        "import tensorflow.compat.v2.feature_column as fc\n",
        "\n",
        "import tensorflow as tf"
      ],
      "execution_count": 16,
      "outputs": []
    },
    {
      "cell_type": "code",
      "metadata": {
        "colab": {
          "base_uri": "https://localhost:8080/"
        },
        "id": "I0p_06p6Dex5",
        "outputId": "15b1df98-9957-436b-a177-630e73768a99"
      },
      "source": [
        "# Variable\n",
        "t1 = tf.Variable([[1,2,3],[1,2,3],[1,2,3]])\n",
        "t1.shape"
      ],
      "execution_count": 11,
      "outputs": [
        {
          "output_type": "execute_result",
          "data": {
            "text/plain": [
              "TensorShape([3, 3])"
            ]
          },
          "metadata": {
            "tags": []
          },
          "execution_count": 11
        }
      ]
    },
    {
      "cell_type": "code",
      "metadata": {
        "colab": {
          "base_uri": "https://localhost:8080/"
        },
        "id": "ENmWfTeFYrhl",
        "outputId": "0ce67afa-5266-49b0-e9de-15ea0017406c"
      },
      "source": [
        "# reshape\n",
        "new_t = tf.reshape(t1,[9])\n",
        "print(new_t)"
      ],
      "execution_count": 14,
      "outputs": [
        {
          "output_type": "stream",
          "text": [
            "tf.Tensor([1 2 3 1 2 3 1 2 3], shape=(9,), dtype=int32)\n"
          ],
          "name": "stdout"
        }
      ]
    },
    {
      "cell_type": "code",
      "metadata": {
        "id": "IyNZZbxvejB4"
      },
      "source": [
        ""
      ],
      "execution_count": null,
      "outputs": []
    },
    {
      "cell_type": "markdown",
      "metadata": {
        "id": "UU4MMhB_rxvz"
      },
      "source": [
        "###Types of Tensors\n",
        "Before we go to far, I will mention that there are diffent types of tensors. These are the most used and we will talk more in depth about each as they are used.\n",
        "- Variable\n",
        "- Constant\n",
        "- Placeholder\n",
        "- SparseTensor\n",
        "\n",
        "With the execption of ```Variable``` all these tensors are immuttable, meaning their value may not change during execution.\n",
        "\n",
        "For now, it is enough to understand that we use the Variable tensor when we want to potentially change the value of our tensor.\n",
        "\n"
      ]
    },
    {
      "cell_type": "code",
      "metadata": {
        "colab": {
          "base_uri": "https://localhost:8080/"
        },
        "id": "f8yQ4xZ-Zh10",
        "outputId": "ce631a5d-b2b1-4391-b346-421fd4b884e2"
      },
      "source": [
        "# 2nd session\n",
        "\n",
        "\n",
        "# Load dataset.\n",
        "dftrain = pd.read_csv('https://storage.googleapis.com/tf-datasets/titanic/train.csv') # training data\n",
        "dfeval = pd.read_csv('https://storage.googleapis.com/tf-datasets/titanic/eval.csv') # testing data\n",
        "y_train = dftrain.pop('survived')\n",
        "y_eval = dfeval.pop('survived')\n",
        "\n",
        "print(dfeval)"
      ],
      "execution_count": 19,
      "outputs": [
        {
          "output_type": "stream",
          "text": [
            "        sex   age  n_siblings_spouses  ...     deck  embark_town alone\n",
            "0      male  35.0                   0  ...  unknown  Southampton     y\n",
            "1      male  54.0                   0  ...        E  Southampton     y\n",
            "2    female  58.0                   0  ...        C  Southampton     y\n",
            "3    female  55.0                   0  ...  unknown  Southampton     y\n",
            "4      male  34.0                   0  ...        D  Southampton     y\n",
            "..      ...   ...                 ...  ...      ...          ...   ...\n",
            "259  female  25.0                   0  ...  unknown  Southampton     n\n",
            "260    male  33.0                   0  ...  unknown  Southampton     y\n",
            "261  female  39.0                   0  ...  unknown   Queenstown     n\n",
            "262    male  27.0                   0  ...  unknown  Southampton     y\n",
            "263    male  26.0                   0  ...        C    Cherbourg     y\n",
            "\n",
            "[264 rows x 9 columns]\n"
          ],
          "name": "stdout"
        }
      ]
    },
    {
      "cell_type": "code",
      "metadata": {
        "id": "FGMaW2S-4n6R"
      },
      "source": [
        ""
      ],
      "execution_count": null,
      "outputs": []
    }
  ]
}